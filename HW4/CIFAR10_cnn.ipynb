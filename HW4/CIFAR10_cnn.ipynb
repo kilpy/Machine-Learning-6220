{
 "cells": [
  {
   "cell_type": "code",
   "execution_count": 1,
   "id": "e0129562",
   "metadata": {},
   "outputs": [],
   "source": [
    "# Dataset: CIFAR10\n",
    "\n",
    "# Architecture: CNN:\n",
    "    # • Conv2D (in channels=3, out channels=32, kernel size=3, padding=1) → ReLU → MaxPool2D (kernel size=2, stride=2)\n",
    "    # • Conv2D (32 → 64, kernel size=3, padding=1) → ReLU → MaxPool2D (kernel size=2, stride=2)\n",
    "    # • Conv2D (64 → 128, kernel size=3, padding=1) → ReLU → MaxPool2D (kernel size=2, stride=2)\n",
    "    # • Flatten → Linear(128 × 4 × 4 = 2048 → 256) → ReLU → Linear(256 → 10)\n",
    "# Loss: CrossEntropyLoss\n",
    "# Optimizer: Adam (lr=0.001)\n",
    "\n",
    "# Define the batch size for training and testing\n",
    "batch_size = 64\n",
    "learning_rate = 0.001\n",
    "\n",
    "from tqdm import tqdm\n",
    "\n",
    "from torchvision import datasets, transforms\n",
    "from torch.utils.data import DataLoader\n",
    "\n",
    "# Define a transform to convert images to tensors and normalize them\n",
    "transform = transforms.Compose([\n",
    "transforms.ToTensor(), # Convert PIL image to tensor\n",
    "transforms.Normalize((0.4914, 0.4822, 0.4465), # Mean for each channel\n",
    "                    (0.2470, 0.2435, 0.2616)) # Std for each channel\n",
    "])\n",
    "\n",
    "# Load the CIFAR-10 training dataset with transformations applied\n",
    "train_dataset = datasets.CIFAR10(root='./data', train=True, transform=transform, download=True)\n",
    "# Load the CIFAR-10 test dataset with the same transformations\n",
    "test_dataset = datasets.CIFAR10(root='./data', train=False, transform=transform, download=True)\n",
    "# Create a data loader for the training set\n",
    "train_loader = DataLoader(dataset=train_dataset, batch_size=batch_size, # Number of samples per batch\n",
    "                        shuffle=True) # Shuffle the data each epoch\n",
    "# Create a data loader for the test set\n",
    "test_loader = DataLoader(dataset=test_dataset,\n",
    "                        batch_size=batch_size, # Same batch size as training\n",
    "                        shuffle=False) # No shuffling for test data"
   ]
  },
  {
   "cell_type": "code",
   "execution_count": 2,
   "id": "e2ee76fe",
   "metadata": {},
   "outputs": [],
   "source": [
    "# Define the CNN model\n",
    "import torch\n",
    "import torch.nn as nn\n",
    "import torch.nn.functional as F\n",
    "import torch.optim as optim\n",
    "\n",
    "class CNN(nn.Module):\n",
    "    def __init__(self):\n",
    "        super(CNN, self).__init__()\n",
    "        # First convolutional layer: 3 input channels (RGB), 32 output channels, kernel size 3, padding 1\n",
    "        self.conv1 = nn.Conv2d(3, 32, kernel_size=3, padding=1)\n",
    "        # Second convolutional layer: 32 input channels, 64 output channels\n",
    "        self.conv2 = nn.Conv2d(32, 64, kernel_size=3, padding=1)\n",
    "        # Third convolutional layer: 64 input channels, 128 output channels\n",
    "        self.conv3 = nn.Conv2d(64, 128, kernel_size=3, padding=1)\n",
    "        # Fully connected layer: input size is 128*4*4 (after flattening), output size is 256\n",
    "        self.fc1 = nn.Linear(128 * 4 * 4, 256)\n",
    "        # Final fully connected layer: input size is 256, output size is 10 (number of classes)\n",
    "        self.fc2 = nn.Linear(256, 10)\n",
    "    def forward(self, x):\n",
    "        # Apply first convolutional layer, ReLU activation, and max pooling\n",
    "        x = F.max_pool2d(F.relu(self.conv1(x)), 2)\n",
    "        # Apply second convolutional layer, ReLU activation, and max pooling\n",
    "        x = F.max_pool2d(F.relu(self.conv2(x)), 2)\n",
    "        # Apply third convolutional layer, ReLU activation, and max pooling\n",
    "        x = F.max_pool2d(F.relu(self.conv3(x)), 2)\n",
    "        # Flatten the tensor for the fully connected layers\n",
    "        x = x.view(-1, 128 * 4 * 4)\n",
    "        # Apply first fully connected layer and ReLU activation\n",
    "        x = F.relu(self.fc1(x))\n",
    "        # Apply final fully connected layer (output logits)\n",
    "        x = self.fc2(x)\n",
    "        return x\n",
    "    "
   ]
  },
  {
   "cell_type": "code",
   "execution_count": 3,
   "id": "f7d9cd11",
   "metadata": {},
   "outputs": [
    {
     "name": "stdout",
     "output_type": "stream",
     "text": [
      "CUDA is available. Training on GPU.\n"
     ]
    }
   ],
   "source": [
    "# init:\n",
    "model = CNN()\n",
    "loss = nn.CrossEntropyLoss()\n",
    "optimizer = optim.Adam(model.parameters(), lr=learning_rate)\n",
    "device = torch.device(\"cuda\" if torch.cuda.is_available() else \"cpu\")\n",
    "model.to(device)\n",
    "# check if cuda:\n",
    "if torch.cuda.is_available():\n",
    "    print(\"CUDA is available. Training on GPU.\")\n",
    "else:\n",
    "    print(\"CUDA is not available. Training on CPU.\")\n",
    "\n",
    "# train over 20 epochs:\n",
    "\n",
    "# plot training loss over epochs\n",
    "\n",
    "# plot training and testing accuracy over epochs\n",
    "\n",
    "\n",
    "\n"
   ]
  },
  {
   "cell_type": "code",
   "execution_count": 4,
   "id": "fc45cd07",
   "metadata": {},
   "outputs": [],
   "source": [
    "# 2. \n",
    "    # different hyperparameters: for each of the following, train the model and plot the training loss and accuracy over epochs:\n",
    "\n",
    "# a) batch size = 64, learning rate = [0.01, 0.001, 0.0001]\n",
    "# b) batch size = [32, 64, 128], learning rate = 0.001\n",
    "# c) batch size = 64, learning rate = 0.001, optimizer = RMSProp\n",
    "    # Describe observations in the difference between RMSProp and Adam optimizers"
   ]
  },
  {
   "cell_type": "code",
   "execution_count": 5,
   "id": "9c8d8c20",
   "metadata": {},
   "outputs": [],
   "source": [
    "# 3. \n",
    "    # for batch size = 64, learning rate = 0.001, modify architecture:\n",
    "\n",
    "# a) add a Dropout layer (p=0.5) after the first Linear layer\n",
    "    # plot training loss, training accuracy, and testing accuracy over epochs\n",
    "    # discuss observations\n",
    "# b) add a BatchNorm2d layer before each MaxPool2d layer\n",
    "    # num_features arg of BatchNorm2da should match out_channels of preceding Conv2d layer\n",
    "    # plot training loss, training accuracy, and testing accuracy over epochs\n",
    "    # discuss observations"
   ]
  }
 ],
 "metadata": {
  "kernelspec": {
   "display_name": "Python 3",
   "language": "python",
   "name": "python3"
  },
  "language_info": {
   "codemirror_mode": {
    "name": "ipython",
    "version": 3
   },
   "file_extension": ".py",
   "mimetype": "text/x-python",
   "name": "python",
   "nbconvert_exporter": "python",
   "pygments_lexer": "ipython3",
   "version": "3.12.10"
  }
 },
 "nbformat": 4,
 "nbformat_minor": 5
}
