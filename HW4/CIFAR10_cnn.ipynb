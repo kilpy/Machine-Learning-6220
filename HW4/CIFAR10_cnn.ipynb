{
 "cells": [
  {
   "cell_type": "code",
   "execution_count": 4,
   "id": "e0129562",
   "metadata": {},
   "outputs": [
    {
     "name": "stdout",
     "output_type": "stream",
     "text": [
      "Downloading https://www.cs.toronto.edu/~kriz/cifar-10-python.tar.gz to ./data\\cifar-10-python.tar.gz\n"
     ]
    },
    {
     "name": "stderr",
     "output_type": "stream",
     "text": [
      "100%|██████████| 170M/170M [02:10<00:00, 1.31MB/s]   \n"
     ]
    },
    {
     "name": "stdout",
     "output_type": "stream",
     "text": [
      "Extracting ./data\\cifar-10-python.tar.gz to ./data\n",
      "Files already downloaded and verified\n"
     ]
    },
    {
     "ename": "NameError",
     "evalue": "name 'batch_size' is not defined",
     "output_type": "error",
     "traceback": [
      "\u001b[1;31m---------------------------------------------------------------------------\u001b[0m",
      "\u001b[1;31mNameError\u001b[0m                                 Traceback (most recent call last)",
      "Cell \u001b[1;32mIn[4], line 29\u001b[0m\n\u001b[0;32m     25\u001b[0m test_dataset \u001b[38;5;241m=\u001b[39m datasets\u001b[38;5;241m.\u001b[39mCIFAR10(root\u001b[38;5;241m=\u001b[39m\u001b[38;5;124m'\u001b[39m\u001b[38;5;124m./data\u001b[39m\u001b[38;5;124m'\u001b[39m, train\u001b[38;5;241m=\u001b[39m\u001b[38;5;28;01mFalse\u001b[39;00m,\n\u001b[0;32m     26\u001b[0m transform\u001b[38;5;241m=\u001b[39mtransform, download\u001b[38;5;241m=\u001b[39m\u001b[38;5;28;01mTrue\u001b[39;00m)\n\u001b[0;32m     27\u001b[0m \u001b[38;5;66;03m# Create a data loader for the training set\u001b[39;00m\n\u001b[0;32m     28\u001b[0m train_loader \u001b[38;5;241m=\u001b[39m DataLoader(dataset\u001b[38;5;241m=\u001b[39mtrain_dataset,\n\u001b[1;32m---> 29\u001b[0m batch_size\u001b[38;5;241m=\u001b[39m\u001b[43mbatch_size\u001b[49m, \u001b[38;5;66;03m# Number of samples per batch\u001b[39;00m\n\u001b[0;32m     30\u001b[0m shuffle\u001b[38;5;241m=\u001b[39m\u001b[38;5;28;01mTrue\u001b[39;00m) \u001b[38;5;66;03m# Shuffle the data each epoch\u001b[39;00m\n\u001b[0;32m     31\u001b[0m \u001b[38;5;66;03m# Create a data loader for the test set\u001b[39;00m\n\u001b[0;32m     32\u001b[0m test_loader \u001b[38;5;241m=\u001b[39m DataLoader(dataset\u001b[38;5;241m=\u001b[39mtest_dataset,\n\u001b[0;32m     33\u001b[0m batch_size\u001b[38;5;241m=\u001b[39mbatch_size, \u001b[38;5;66;03m# Same batch size as training\u001b[39;00m\n\u001b[0;32m     34\u001b[0m shuffle\u001b[38;5;241m=\u001b[39m\u001b[38;5;28;01mFalse\u001b[39;00m) \u001b[38;5;66;03m# No shuffling for test data\u001b[39;00m\n",
      "\u001b[1;31mNameError\u001b[0m: name 'batch_size' is not defined"
     ]
    }
   ],
   "source": [
    "# Dataset: CIFAR10\n",
    "\n",
    "# Architecture: CNN:\n",
    "    # • Conv2D (in channels=3, out channels=32, kernel size=3, padding=1) → ReLU → MaxPool2D (kernel size=2, stride=2)\n",
    "    # • Conv2D (32 → 64, kernel size=3, padding=1) → ReLU → MaxPool2D (kernel size=2, stride=2)\n",
    "    # • Conv2D (64 → 128, kernel size=3, padding=1) → ReLU → MaxPool2D (kernel size=2, stride=2)\n",
    "    # • Flatten → Linear(128 × 4 × 4 = 2048 → 256) → ReLU → Linear(256 → 10)\n",
    "# Loss: CrossEntropyLoss\n",
    "# Optimizer: Adam (lr=0.001)\n",
    "from tqdm import tqdm\n",
    "\n",
    "from torchvision import datasets, transforms\n",
    "from torch.utils.data import DataLoader\n",
    "\n",
    "# Define a transform to convert images to tensors and normalize them\n",
    "transform = transforms.Compose([\n",
    "transforms.ToTensor(), # Convert PIL image to tensor\n",
    "transforms.Normalize((0.4914, 0.4822, 0.4465), # Mean for each channel\n",
    "(0.2470, 0.2435, 0.2616)) # Std for each channel\n",
    "])\n",
    "# Load the CIFAR-10 training dataset with transformations applied\n",
    "train_dataset = datasets.CIFAR10(root='./data', train=True,\n",
    "transform=transform, download=True)\n",
    "# Load the CIFAR-10 test dataset with the same transformations\n",
    "test_dataset = datasets.CIFAR10(root='./data', train=False,\n",
    "transform=transform, download=True)\n",
    "# Create a data loader for the training set\n",
    "train_loader = DataLoader(dataset=train_dataset,\n",
    "batch_size=batch_size, # Number of samples per batch\n",
    "shuffle=True) # Shuffle the data each epoch\n",
    "# Create a data loader for the test set\n",
    "test_loader = DataLoader(dataset=test_dataset,\n",
    "batch_size=batch_size, # Same batch size as training\n",
    "shuffle=False) # No shuffling for test data"
   ]
  },
  {
   "cell_type": "code",
   "execution_count": null,
   "id": "e2ee76fe",
   "metadata": {},
   "outputs": [],
   "source": []
  }
 ],
 "metadata": {
  "kernelspec": {
   "display_name": "Python 3",
   "language": "python",
   "name": "python3"
  },
  "language_info": {
   "codemirror_mode": {
    "name": "ipython",
    "version": 3
   },
   "file_extension": ".py",
   "mimetype": "text/x-python",
   "name": "python",
   "nbconvert_exporter": "python",
   "pygments_lexer": "ipython3",
   "version": "3.12.10"
  }
 },
 "nbformat": 4,
 "nbformat_minor": 5
}
