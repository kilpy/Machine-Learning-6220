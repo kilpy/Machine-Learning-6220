{
 "cells": [
  {
   "cell_type": "code",
   "execution_count": 3,
   "metadata": {},
   "outputs": [],
   "source": [
    "# Implement SVM Classification\n",
    "    # X = features\n",
    "    # Y = labels\n",
    "\n",
    "import numpy as np\n",
    "import matplotlib.pyplot as plt\n",
    "import sklearn\n",
    "import pandas as pd"
   ]
  },
  {
   "cell_type": "code",
   "execution_count": 8,
   "metadata": {},
   "outputs": [
    {
     "data": {
      "application/vnd.microsoft.datawrangler.viewer.v0+json": {
       "columns": [
        {
         "name": "index",
         "rawType": "int64",
         "type": "integer"
        },
        {
         "name": "0",
         "rawType": "float64",
         "type": "float"
        },
        {
         "name": "1",
         "rawType": "float64",
         "type": "float"
        }
       ],
       "conversionMethod": "pd.DataFrame",
       "ref": "d8659d28-1193-44f5-997c-066f9780069d",
       "rows": [
        [
         "0",
         "-0.1898389674095912",
         "1.0501663945841435"
        ],
        [
         "1",
         "-0.1325639327187821",
         "0.9827414728017192"
        ],
        [
         "2",
         "-0.3942632745368248",
         "1.2217913696169012"
        ],
        [
         "3",
         "-0.2686371965967205",
         "1.2499466167967468"
        ],
        [
         "4",
         "1.9482695750646744",
         "-0.4783181635813117"
        ],
        [
         "5",
         "-0.11663098136887035",
         "0.9872966004772346"
        ],
        [
         "6",
         "-0.7694217678658064",
         "0.2179473988185585"
        ],
        [
         "7",
         "1.5963807179650296",
         "-0.4136408388201948"
        ],
        [
         "8",
         "-1.036208712553231",
         "0.8060526170448603"
        ],
        [
         "9",
         "0.6472496073746368",
         "-0.5381337729655779"
        ],
        [
         "10",
         "0.987384686574552",
         "-0.742238317654856"
        ],
        [
         "11",
         "-0.05547334009542221",
         "1.0174961104757287"
        ],
        [
         "12",
         "0.6865225067146861",
         "-0.48657116226136954"
        ],
        [
         "13",
         "0.40583204446352966",
         "-0.5611662706815232"
        ],
        [
         "14",
         "-0.6561005618800594",
         "0.8363734397713739"
        ],
        [
         "15",
         "0.14414370742131255",
         "0.916713582514424"
        ],
        [
         "16",
         "1.9748165653027092",
         "-0.03749797741960032"
        ],
        [
         "17",
         "2.04307348445265",
         "0.0087960331797311"
        ],
        [
         "18",
         "0.987122941928949",
         "0.9992444700877808"
        ],
        [
         "19",
         "0.5619124197582888",
         "0.8676817551775247"
        ],
        [
         "20",
         "0.1989909854087843",
         "-0.5117335210068844"
        ],
        [
         "21",
         "0.8384472255074723",
         "0.7590504364936842"
        ],
        [
         "22",
         "0.9377467203730866",
         "0.0039735169920736835"
        ],
        [
         "23",
         "0.4084449884131124",
         "0.0704520991330084"
        ],
        [
         "24",
         "0.8058520751496657",
         "0.5744076068750237"
        ],
        [
         "25",
         "0.5646707313380992",
         "-0.4933490096901405"
        ],
        [
         "26",
         "1.6292085151782496",
         "0.1773034499058695"
        ],
        [
         "27",
         "0.7034230129065833",
         "-0.1798320083527195"
        ],
        [
         "28",
         "0.35449514806473553",
         "-0.40577749222340714"
        ],
        [
         "29",
         "0.3997941309971588",
         "0.05333514791391003"
        ],
        [
         "30",
         "1.1352276832526766",
         "0.2338136552026678"
        ],
        [
         "31",
         "-0.6660745355529283",
         "0.794849274732773"
        ],
        [
         "32",
         "0.6387706602912584",
         "0.7340598665305759"
        ],
        [
         "33",
         "-0.7348399766687647",
         "0.7119044262081908"
        ],
        [
         "34",
         "0.36324972730779614",
         "0.26784561001165075"
        ],
        [
         "35",
         "0.8108084438543012",
         "0.6183810247620716"
        ],
        [
         "36",
         "2.2866861793014683",
         "-0.180600655733106"
        ],
        [
         "37",
         "1.0912264623299615",
         "-0.31675451470879207"
        ],
        [
         "38",
         "0.04947820048006432",
         "0.4912915609711612"
        ],
        [
         "39",
         "0.8025011187184768",
         "-0.45307391895576066"
        ],
        [
         "40",
         "0.11826703010021432",
         "-0.1764080976234542"
        ],
        [
         "41",
         "0.550223115227863",
         "0.9455781719104579"
        ],
        [
         "42",
         "0.984357999077352",
         "0.3754380611552261"
        ],
        [
         "43",
         "0.6600442400901954",
         "-0.07936179805862019"
        ],
        [
         "44",
         "0.5031466639170262",
         "-0.39651409439860646"
        ],
        [
         "45",
         "1.8018963119975409",
         "-0.5071456716381073"
        ],
        [
         "46",
         "-0.448163627532513",
         "1.0831169043798328"
        ],
        [
         "47",
         "1.3388667334517947",
         "-0.04795315801012051"
        ],
        [
         "48",
         "1.8350455406332415",
         "0.14716971497529832"
        ],
        [
         "49",
         "1.6681895659314678",
         "-0.13846509063212925"
        ]
       ],
       "shape": {
        "columns": 2,
        "rows": 160
       }
      },
      "text/html": [
       "<div>\n",
       "<style scoped>\n",
       "    .dataframe tbody tr th:only-of-type {\n",
       "        vertical-align: middle;\n",
       "    }\n",
       "\n",
       "    .dataframe tbody tr th {\n",
       "        vertical-align: top;\n",
       "    }\n",
       "\n",
       "    .dataframe thead th {\n",
       "        text-align: right;\n",
       "    }\n",
       "</style>\n",
       "<table border=\"1\" class=\"dataframe\">\n",
       "  <thead>\n",
       "    <tr style=\"text-align: right;\">\n",
       "      <th></th>\n",
       "      <th>0</th>\n",
       "      <th>1</th>\n",
       "    </tr>\n",
       "  </thead>\n",
       "  <tbody>\n",
       "    <tr>\n",
       "      <th>0</th>\n",
       "      <td>-0.189839</td>\n",
       "      <td>1.050166</td>\n",
       "    </tr>\n",
       "    <tr>\n",
       "      <th>1</th>\n",
       "      <td>-0.132564</td>\n",
       "      <td>0.982741</td>\n",
       "    </tr>\n",
       "    <tr>\n",
       "      <th>2</th>\n",
       "      <td>-0.394263</td>\n",
       "      <td>1.221791</td>\n",
       "    </tr>\n",
       "    <tr>\n",
       "      <th>3</th>\n",
       "      <td>-0.268637</td>\n",
       "      <td>1.249947</td>\n",
       "    </tr>\n",
       "    <tr>\n",
       "      <th>4</th>\n",
       "      <td>1.948270</td>\n",
       "      <td>-0.478318</td>\n",
       "    </tr>\n",
       "    <tr>\n",
       "      <th>...</th>\n",
       "      <td>...</td>\n",
       "      <td>...</td>\n",
       "    </tr>\n",
       "    <tr>\n",
       "      <th>155</th>\n",
       "      <td>1.966937</td>\n",
       "      <td>-0.230039</td>\n",
       "    </tr>\n",
       "    <tr>\n",
       "      <th>156</th>\n",
       "      <td>0.919107</td>\n",
       "      <td>0.655677</td>\n",
       "    </tr>\n",
       "    <tr>\n",
       "      <th>157</th>\n",
       "      <td>-0.628637</td>\n",
       "      <td>0.402392</td>\n",
       "    </tr>\n",
       "    <tr>\n",
       "      <th>158</th>\n",
       "      <td>0.355167</td>\n",
       "      <td>0.562167</td>\n",
       "    </tr>\n",
       "    <tr>\n",
       "      <th>159</th>\n",
       "      <td>-0.770417</td>\n",
       "      <td>0.535014</td>\n",
       "    </tr>\n",
       "  </tbody>\n",
       "</table>\n",
       "<p>160 rows × 2 columns</p>\n",
       "</div>"
      ],
      "text/plain": [
       "            0         1\n",
       "0   -0.189839  1.050166\n",
       "1   -0.132564  0.982741\n",
       "2   -0.394263  1.221791\n",
       "3   -0.268637  1.249947\n",
       "4    1.948270 -0.478318\n",
       "..        ...       ...\n",
       "155  1.966937 -0.230039\n",
       "156  0.919107  0.655677\n",
       "157 -0.628637  0.402392\n",
       "158  0.355167  0.562167\n",
       "159 -0.770417  0.535014\n",
       "\n",
       "[160 rows x 2 columns]"
      ]
     },
     "execution_count": 8,
     "metadata": {},
     "output_type": "execute_result"
    }
   ],
   "source": [
    "# Import datasets:\n",
    "\n",
    "x_train = pd.read_csv('X_train.csv', header=None)\n",
    "y_train = pd.read_csv('Y_train.csv', header=None)\n",
    "x_test = pd.read_csv('X_test.csv', header=None)\n",
    "y_test = pd.read_csv('Y_test.csv', header=None)\n",
    "\n",
    "# verify data:\n",
    "x_train"
   ]
  },
  {
   "cell_type": "code",
   "execution_count": 9,
   "metadata": {},
   "outputs": [
    {
     "name": "stdout",
     "output_type": "stream",
     "text": [
      "[1 1 1 0 1 0 1 0 0 0 0 1 1 0 0 1 0 0 0 1 0 0 1 1 1 0 0 0 0 0 1 0 0 0 1 0 0\n",
      " 0 1 0]\n",
      "Accuracy: 0.75\n"
     ]
    },
    {
     "name": "stderr",
     "output_type": "stream",
     "text": [
      "c:\\Users\\koola\\AppData\\Local\\Programs\\Python\\Python312\\Lib\\site-packages\\sklearn\\utils\\validation.py:1339: DataConversionWarning: A column-vector y was passed when a 1d array was expected. Please change the shape of y to (n_samples, ), for example using ravel().\n",
      "  y = column_or_1d(y, warn=True)\n"
     ]
    }
   ],
   "source": [
    "# use sklearn.svm.svc to implement SVM classification\n",
    "from sklearn.svm import SVC\n",
    "model = SVC(kernel='linear')\n",
    "model.fit(x_train, y_train)\n",
    "\n",
    "# predict the test data\n",
    "y_pred = model.predict(x_test)\n",
    "print(y_pred)\n",
    "\n",
    "# Evaluate the model\n",
    "from sklearn.metrics import accuracy_score\n",
    "accuracy = accuracy_score(y_test, y_pred)\n",
    "print('Accuracy:', accuracy)\n"
   ]
  },
  {
   "cell_type": "code",
   "execution_count": 10,
   "metadata": {},
   "outputs": [
    {
     "data": {
      "text/plain": [
       "[<matplotlib.lines.Line2D at 0x2c287743a70>]"
      ]
     },
     "execution_count": 10,
     "metadata": {},
     "output_type": "execute_result"
    },
    {
     "data": {
      "image/png": "[encoded data removed]",
      "text/plain": [
       "<Figure size 640x480 with 1 Axes>"
      ]
     },
     "metadata": {},
     "output_type": "display_data"
    }
   ],
   "source": [
    "# Plot the data and the decision boundary for linear SVM. \n",
    "plt.scatter(x_train[0], x_train[1], c=y_train[0], cmap='winter')\n",
    "plt.xlabel('Feature 1')\n",
    "plt.ylabel('Feature 2')\n",
    "\n",
    "# plot the decision boundary\n",
    "w = model.coef_[0]\n",
    "a = -w[0] / w[1]\n",
    "xx = np.linspace(-5, 5)\n",
    "yy = a * xx - (model.intercept_[0]) / w[1]\n",
    "plt.plot(xx, yy, 'k-')\n"
   ]
  },
  {
   "cell_type": "code",
   "execution_count": 11,
   "metadata": {},
   "outputs": [
    {
     "ename": "SyntaxError",
     "evalue": "invalid character '’' (U+2019) (3045753430.py, line 20)",
     "output_type": "error",
     "traceback": [
      "\u001b[1;36m  Cell \u001b[1;32mIn[11], line 20\u001b[1;36m\u001b[0m\n\u001b[1;33m    plt.scatter(X[:, 0], X[:, 1], c=y, edgecolors=’k’, cmap=plt.cm.\u001b[0m\n\u001b[1;37m                                                  ^\u001b[0m\n\u001b[1;31mSyntaxError\u001b[0m\u001b[1;31m:\u001b[0m invalid character '’' (U+2019)\n"
     ]
    }
   ],
   "source": [
    "def plot_decision_boundary(clf, X, y):\n",
    "\"\"\"\n",
    "Plots the decision boundary for a given classifier.\n",
    "Parameters:\n",
    "clf : trained SVM classifier.\n",
    "X : numpy array of shape (n_samples, 2). The input feature matrix.\n",
    "y : numpy array of shape (n_samples,). The target labels.\n",
    "\"\"\"\n",
    "# Define the boundaries of the plot\n",
    "x_min, x_max = X[:, 0].min() - 1, X[:, 0].max() + 1\n",
    "y_min, y_max = X[:, 1].min() - 1, X[:, 1].max() + 1\n",
    "# Create a grid of points\n",
    "xx, yy = np.meshgrid(np.linspace(x_min, x_max, 100), np.linspace(\n",
    "y_min, y_max, 100))\n",
    "# Predict class labels for each point in the grid\n",
    "Z = clf.predict(np.c_[xx.ravel(), yy.ravel()])\n",
    "Z = Z.reshape(xx.shape)\n",
    "# Plot the decision boundary\n",
    "plt.contourf(xx, yy, Z, alpha=0.3)\n",
    "plt.scatter(X[:, 0], X[:, 1], c=y, edgecolors=’k’, cmap=plt.cm.\n",
    "coolwarm)\n",
    "plt.xlabel(\"Feature 1\")\n",
    "plt.ylabel(\"Feature 2\")\n",
    "plt.show()\n"
   ]
  },
  {
   "cell_type": "code",
   "execution_count": 12,
   "metadata": {},
   "outputs": [
    {
     "name": "stdout",
     "output_type": "stream",
     "text": [
      "Accuracy: 0.925\n"
     ]
    },
    {
     "name": "stderr",
     "output_type": "stream",
     "text": [
      "c:\\Users\\koola\\AppData\\Local\\Programs\\Python\\Python312\\Lib\\site-packages\\sklearn\\utils\\validation.py:1339: DataConversionWarning: A column-vector y was passed when a 1d array was expected. Please change the shape of y to (n_samples, ), for example using ravel().\n",
      "  y = column_or_1d(y, warn=True)\n"
     ]
    },
    {
     "ename": "NameError",
     "evalue": "name 'plot_decision_boundary' is not defined",
     "output_type": "error",
     "traceback": [
      "\u001b[1;31m---------------------------------------------------------------------------\u001b[0m",
      "\u001b[1;31mNameError\u001b[0m                                 Traceback (most recent call last)",
      "Cell \u001b[1;32mIn[12], line 12\u001b[0m\n\u001b[0;32m     10\u001b[0m plt\u001b[38;5;241m.\u001b[39mxlabel(\u001b[38;5;124m'\u001b[39m\u001b[38;5;124mFeature 1\u001b[39m\u001b[38;5;124m'\u001b[39m)\n\u001b[0;32m     11\u001b[0m plt\u001b[38;5;241m.\u001b[39mylabel(\u001b[38;5;124m'\u001b[39m\u001b[38;5;124mFeature 2\u001b[39m\u001b[38;5;124m'\u001b[39m)\n\u001b[1;32m---> 12\u001b[0m \u001b[43mplot_decision_boundary\u001b[49m(model, x_train\u001b[38;5;241m.\u001b[39mvalues, y_train\u001b[38;5;241m.\u001b[39mvalues\u001b[38;5;241m.\u001b[39mravel())\n",
      "\u001b[1;31mNameError\u001b[0m: name 'plot_decision_boundary' is not defined"
     ]
    },
    {
     "data": {
      "image/png": "[encoded data removed]",
      "text/plain": [
       "<Figure size 640x480 with 1 Axes>"
      ]
     },
     "metadata": {},
     "output_type": "display_data"
    }
   ],
   "source": [
    "# Change linear kernel to a RBF kernel.\n",
    "model = SVC(kernel='rbf')\n",
    "model.fit(x_train, y_train)\n",
    "y_pred = model.predict(x_test)\n",
    "accuracy = accuracy_score(y_test, y_pred)\n",
    "print('Accuracy:', accuracy)\n",
    "\n",
    "# Plot the data and the decision boundary for RBF SVM.\n",
    "plt.scatter(x_train[0], x_train[1], c=y_train[0], cmap='winter')\n",
    "plt.xlabel('Feature 1')\n",
    "plt.ylabel('Feature 2')\n",
    "plot_decision_boundary(model, x_train.values, y_train.values.ravel())\n"
   ]
  },
  {
   "cell_type": "code",
   "execution_count": null,
   "metadata": {},
   "outputs": [],
   "source": []
  }
 ],
 "metadata": {
  "kernelspec": {
   "display_name": "Python 3",
   "language": "python",
   "name": "python3"
  },
  "language_info": {
   "codemirror_mode": {
    "name": "ipython",
    "version": 3
   },
   "file_extension": ".py",
   "mimetype": "text/x-python",
   "name": "python",
   "nbconvert_exporter": "python",
   "pygments_lexer": "ipython3",
   "version": "3.12.7"
  }
 },
 "nbformat": 4,
 "nbformat_minor": 2
}
